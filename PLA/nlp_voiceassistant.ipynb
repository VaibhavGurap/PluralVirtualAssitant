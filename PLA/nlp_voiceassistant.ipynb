{
  "nbformat": 4,
  "nbformat_minor": 0,
  "metadata": {
    "colab": {
      "provenance": []
    },
    "kernelspec": {
      "name": "python3",
      "display_name": "Python 3"
    },
    "language_info": {
      "name": "python"
    }
  },
  "cells": [
    {
      "cell_type": "code",
      "source": [
        "import speech_recognition as sr\n",
        "import spacy\n",
        "import pyaudio\n",
        "import re\n",
        "\n",
        "# Load English tokenizer, tagger, parser, NER, and word vectors\n",
        "nlp = spacy.load(\"en_core_web_trf\")\n",
        "\n",
        "def convert_speech_to_text():\n",
        "    recognizer = sr.Recognizer()\n",
        "    with sr.Microphone() as source:\n",
        "        print(\"Speak something...\")\n",
        "        audio_data = recognizer.listen(source)\n",
        "        print(\"Speech captured, processing...\")\n",
        "\n",
        "    # Recognize speech using Google Speech Recognition\n",
        "    try:\n",
        "        text = recognizer.recognize_google(audio_data)\n",
        "        text=text.replace(\"at the rate\",\"@\")\n",
        "        if \"@\" in text:\n",
        "            text = text.replace(\" \", \"\")\n",
        "            print(\"You said:\", text)\n",
        "        return text\n",
        "    except sr.UnknownValueError:\n",
        "        print(\"Google Speech Recognition could not understand audio\")\n",
        "        return None\n",
        "    except sr.RequestError as e:\n",
        "        print(\"Could not request results from Google Speech Recognition service; {0}\".format(e))\n",
        "        return None\n",
        "\n",
        "def extract_keywords(text):\n",
        "    # Perform NLP processing\n",
        "    doc = nlp(text)\n",
        "\n",
        "    # Extract names using spaCy's named entity recognition\n",
        "    names = [ent.text for ent in doc.ents if ent.label_ == 'PERSON']\n",
        "\n",
        "    # Extract emails using regular expressions\n",
        "    emails = re.findall(r'\\b[A-Za-z0-9._%+-]+@[A-Za-z0-9.-]+\\.[A-Z|a-z]{2,}\\b', text)\n",
        "\n",
        "    return names, emails\n",
        "\n",
        "def main():\n",
        "    # Convert speech to text\n",
        "    text = convert_speech_to_text()\n",
        "\n",
        "    if text:\n",
        "        # Extract keywords from the text\n",
        "        names, emails = extract_keywords(text)\n",
        "\n",
        "        # Print the extracted names and emails\n",
        "        print(\"Extracted Names:\", names)\n",
        "        print(\"Extracted Emails:\", emails)\n",
        "\n",
        "if _name_ == \"_main_\":\n",
        "    main()"
      ],
      "metadata": {
        "id": "q9ykq5h9d1xP"
      },
      "execution_count": null,
      "outputs": []
    }
  ]
}